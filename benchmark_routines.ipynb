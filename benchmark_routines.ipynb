{
 "cells": [
  {
   "cell_type": "code",
   "execution_count": null,
   "id": "17c550ea-6a53-4c05-ab5f-0634f4cb294b",
   "metadata": {
    "tags": []
   },
   "outputs": [],
   "source": [
    "import matplotlib.pyplot as plt\n",
    "import matplotlib\n",
    "import numpy as np\n",
    "import copy"
   ]
  },
  {
   "cell_type": "code",
   "execution_count": null,
   "id": "f670328a",
   "metadata": {},
   "outputs": [],
   "source": [
    "import seaborn as sns\n",
    "\n",
    "sns.set_theme(style=\"white\", font_scale=1, font=\"sans-serif\", rc={'font.sans-serif': ['DejaVu Sans']})\n",
    "sns.set_context(\"paper\")"
   ]
  },
  {
   "cell_type": "code",
   "execution_count": null,
   "id": "025dd289-5cd9-4da7-8f9a-e64f7229f5fc",
   "metadata": {
    "tags": []
   },
   "outputs": [],
   "source": [
    "import json\n",
    "qm_times = json.load(open('data/qm_timings.json'))\n",
    "qm_timings = {key: qm_times[key][\"acquisition\"] for key in qm_times if key != \"date\"}\n",
    "\n",
    "rfsoc_times = json.load(open('data/rfsoc_timings.json'))\n",
    "rfsoc_timings = {key: rfsoc_times[key][\"acquisition\"] for key in rfsoc_times if key != \"date\"}\n",
    "\n",
    "qblox_times = json.load(open('data/qblox_timings.json'))\n",
    "qblox_timings = {key: qblox_times[key][\"acquisition\"] for key in qblox_times if key != \"date\"}\n",
    "\n",
    "#Paper timings\n",
    "zurich_times = json.load(open('data/zurich_timings_paper.json'))\n",
    "zurich_timings_paper = {key: zurich_times[key] for key in zurich_times if key != \"version\"}\n",
    "\n",
    "#Updated timings\n",
    "zurich_times = json.load(open('data/zurich_timings_updated.json'))\n",
    "zurich_timings_updated = {key: zurich_times[key] for key in zurich_times if key != \"version\"}"
   ]
  },
  {
   "cell_type": "code",
   "execution_count": null,
   "id": "99a4bedf-5c47-4631-ae49-a6c60a009afd",
   "metadata": {
    "tags": []
   },
   "outputs": [],
   "source": [
    "ideal_timings = {\n",
    "    \"resonator spectroscopy high power\": 0.5734400000000001,\n",
    "    \"punchout\": 6.88128,\n",
    "    \"resonator spectroscopy low power\": 2.8672,\n",
    "    \"qubit spectroscopy\": 14.745600000000001,\n",
    "    \"rabi amplitude\": 92.78668800000001,\n",
    "    \"ramsey detuned\": 37.1195904,\n",
    "    \"t1\": 49.486233600000006,\n",
    "    \"ramsey\": 40.83154944,\n",
    "    \"single shot classification\": 3.02,\n",
    "    \"standard rb\": 7.8,\n",
    "}"
   ]
  },
  {
   "cell_type": "code",
   "execution_count": null,
   "id": "b1e9cf29-9072-426f-9e24-2b6f903dc003",
   "metadata": {
    "tags": []
   },
   "outputs": [],
   "source": [
    "exclude = {\"punchout\", \"resonator punchout\"}\n",
    "ideal = {key: ideal_timings[key] for key in ideal_timings if key not in exclude}\n",
    "zurich_paper = {key: zurich_timings_paper[key] for key in zurich_timings_paper if key not in exclude}\n",
    "zurich_updated = {key: zurich_timings_updated[key] for key in zurich_timings_updated if key not in exclude}\n",
    "rfsoc = {key: rfsoc_timings[key] for key in rfsoc_timings if key not in exclude}\n",
    "qm = {key: qm_timings[key] for key in qm_timings if key not in exclude} \n",
    "qblox = {key: qblox_timings[key] for key in qblox_timings if key not in exclude} "
   ]
  },
  {
   "cell_type": "code",
   "execution_count": null,
   "id": "93e249c1-27ce-44b8-943b-691536d02f5b",
   "metadata": {
    "tags": []
   },
   "outputs": [],
   "source": [
    "instruments = [(\"Ideal\", ideal, \"#072448\"),\n",
    "               (\"ZI\", zurich_paper, \"#54d2d2\"),\n",
    "               (\"ZI_updated\", zurich_updated, \"#0047ab\"),\n",
    "               (\"RFSoC\", rfsoc, \"#ffcb00\"),\n",
    "               (\"QM\", qm, \"#f8aa4b\"),\n",
    "               (\"QBlox\", qblox, \"#ff6150\"),\n",
    "              ]\n",
    "\n",
    "names = [\n",
    "    \"Resonator spectroscopy\\n(20 points)\",\n",
    "    \"Resonator spectroscopy\\n(100 points)\",\n",
    "    \"Qubit spectroscopy\\n(300 points)\",\n",
    "    \"Rabi amplitude\\n(75 points)\",\n",
    "    \"Ramsey detuned\\n(30 points)\",\n",
    "    \"T1 experiment\\n(40 points)\",\n",
    "    \"T2 experiment\\n(32 points)\",\n",
    "    \"Single shot classification\",\n",
    "    \"Standard RB\"\n",
    "]"
   ]
  },
  {
   "cell_type": "code",
   "execution_count": null,
   "id": "8d81a917-a6d9-4aab-93b1-f50be11d0903",
   "metadata": {},
   "outputs": [],
   "source": [
    "barWidth = 0.35\n",
    "\n",
    "fig, axes = plt.subplots(1, 2, figsize =(9, 9*8/12*1.5), width_ratios=[0.8, 0.2], sharey=True)\n",
    "\n",
    "plt.subplots_adjust(wspace=0, hspace=0)\n",
    "plt.rcParams['xtick.bottom'] = True\n",
    "plt.rcParams['ytick.left'] = True\n",
    "\n",
    "ax = axes[0]\n",
    "\n",
    "# Example data\n",
    "experiments = names\n",
    "\n",
    "positions = []\n",
    "for ins in instruments:\n",
    "    if len(positions) == 0:\n",
    "        pos = np.arange(len(ins[1].keys()))*2.5\n",
    "    else:\n",
    "        pos = [x + barWidth for x in positions[-1]]\n",
    "    positions.append(pos)\n",
    "\n",
    "\n",
    "for idx, ins in enumerate(instruments):\n",
    "    ax.barh(positions[idx], list(ins[1].values()), height=barWidth, color=ins[2], label=ins[0])\n",
    "\n",
    "\n",
    "ax.set_yticks(positions[0]+barWidth*2, labels=experiments, horizontalalignment='center', position=(-0.13,0))\n",
    "ax.invert_yaxis()  # labels read top-to-bottom\n",
    "ax.set_xlabel('Experiment duration [s]')\n",
    "\n",
    "ax.set_axisbelow(True)\n",
    "\n",
    "major_ticks = np.arange(0, 120, 20)\n",
    "minor_ticks = np.arange(0, 120, 5)\n",
    "ax.set_xticks(major_ticks)\n",
    "ax.set_xticks(minor_ticks, minor=True)\n",
    "ax.grid(which='minor', axis='x', alpha=0.2)\n",
    "ax.grid(which='major', axis='x', alpha=0.5)\n",
    "\n",
    "ax.legend()\n",
    "\n",
    "\n",
    "real_instruments = copy.deepcopy(instruments)\n",
    "for jdx, inst in enumerate(real_instruments):\n",
    "    for idx, el in enumerate(inst[1]):\n",
    "        inst[1][el] /= instruments[0][1][el]\n",
    "\n",
    "\n",
    "barWidth = 0.35\n",
    "\n",
    "# Example data\n",
    "experiments = names\n",
    "\n",
    "positions = []\n",
    "for ins in real_instruments:\n",
    "    if len(positions) == 0:\n",
    "        pos = np.arange(len(ins[1].keys()))*2.5\n",
    "    else:\n",
    "        pos = [x + barWidth for x in positions[-1]]\n",
    "    positions.append(pos)\n",
    "\n",
    "\n",
    "for idx, ins in enumerate(real_instruments):\n",
    "    axes[1].barh(positions[idx], list(ins[1].values()), height=barWidth, color=ins[2], label=ins[0])\n",
    "\n",
    "    \n",
    "axes[1].set_xlabel('Experiment duration\\n(ratio with ideal time)')\n",
    "axes[1].set_axisbelow(True)\n",
    "\n",
    "axes[0].set_title(\"Calibration routines benchmarks\", fontsize=12)\n",
    "\n",
    "axes[0].set_xscale('log')\n",
    "axes[1].set_xscale('log')\n",
    "axes[1].set_xlim(0.9)\n",
    "\n",
    "major_ticks = [1, 10, 100]\n",
    "axes[1].set_xticks(major_ticks, labels=[str(i) for i in major_ticks], minor=False)\n",
    "axes[1].grid(which='major', axis='x', alpha=0.2)\n",
    "\n",
    "plt.savefig(\"benchmark_full.pdf\",\n",
    "             bbox_inches =\"tight\")\n",
    "plt.show()"
   ]
  },
  {
   "cell_type": "code",
   "execution_count": null,
   "id": "3fdf8cce-b0d1-4ceb-b201-c5e091c259f9",
   "metadata": {},
   "outputs": [],
   "source": []
  },
  {
   "cell_type": "code",
   "execution_count": null,
   "id": "cc23c1e0-4ccd-46c9-acc3-ef20eda7b0e1",
   "metadata": {},
   "outputs": [],
   "source": []
  }
 ],
 "metadata": {
  "kernelspec": {
   "display_name": "Python 3 (ipykernel)",
   "language": "python",
   "name": "python3"
  },
  "language_info": {
   "codemirror_mode": {
    "name": "ipython",
    "version": 3
   },
   "file_extension": ".py",
   "mimetype": "text/x-python",
   "name": "python",
   "nbconvert_exporter": "python",
   "pygments_lexer": "ipython3",
   "version": "3.10.12"
  }
 },
 "nbformat": 4,
 "nbformat_minor": 5
}
